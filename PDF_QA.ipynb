{
  "nbformat": 4,
  "nbformat_minor": 0,
  "metadata": {
    "colab": {
      "provenance": [],
      "gpuType": "T4"
    },
    "kernelspec": {
      "name": "python3",
      "display_name": "Python 3"
    },
    "language_info": {
      "name": "python"
    },
    "accelerator": "GPU"
  },
  "cells": [
    {
      "cell_type": "markdown",
      "source": [
        "**Installing the libraries**"
      ],
      "metadata": {
        "id": "nTvF5KT9iLyV"
      }
    },
    {
      "cell_type": "code",
      "source": [
        "!pip install PyPDF2 langchain langchain_community langchain_google_genai google-generativeai transformers faiss-gpu"
      ],
      "metadata": {
        "id": "b37aONFEpmHd"
      },
      "execution_count": null,
      "outputs": []
    },
    {
      "cell_type": "markdown",
      "source": [
        "**Importing the libraries**"
      ],
      "metadata": {
        "id": "KKvQDwGFiZai"
      }
    },
    {
      "cell_type": "code",
      "execution_count": 2,
      "metadata": {
        "id": "MyY75tZWoKC2"
      },
      "outputs": [],
      "source": [
        "from PyPDF2 import PdfReader\n",
        "from langchain.text_splitter import RecursiveCharacterTextSplitter\n",
        "from langchain_google_genai import GoogleGenerativeAIEmbeddings, ChatGoogleGenerativeAI\n",
        "from langchain_community.vectorstores import FAISS\n",
        "from langchain.chains.question_answering import load_qa_chain\n",
        "from langchain.prompts import PromptTemplate\n",
        "from google.colab import userdata\n",
        "google_api_key = userdata.get('google_api_key')"
      ]
    },
    {
      "cell_type": "markdown",
      "source": [
        "**Extracting the text from the pdf**"
      ],
      "metadata": {
        "id": "NQzMX_nGi20D"
      }
    },
    {
      "cell_type": "code",
      "source": [
        "pdf_path = '/content/notes.pdf'\n",
        "text = \"\"\n",
        "with open(pdf_path, \"rb\") as file:\n",
        "    pdf_reader = PdfReader(file)\n",
        "    for page in pdf_reader.pages:\n",
        "        text += page.extract_text()"
      ],
      "metadata": {
        "id": "tDMFYw3cpM53"
      },
      "execution_count": 5,
      "outputs": []
    },
    {
      "cell_type": "markdown",
      "source": [
        "**Splitting the text into chunks**"
      ],
      "metadata": {
        "id": "DjJoEcsQjl2a"
      }
    },
    {
      "cell_type": "code",
      "source": [
        "text_splitter = RecursiveCharacterTextSplitter(chunk_size=10000, chunk_overlap=1000)\n",
        "text_chunks = text_splitter.split_text(text)"
      ],
      "metadata": {
        "id": "9Vszzuc6pOxa"
      },
      "execution_count": 6,
      "outputs": []
    },
    {
      "cell_type": "markdown",
      "source": [
        "**Converting the text chunks into embeddings**"
      ],
      "metadata": {
        "id": "9mUgz6hQjxh8"
      }
    },
    {
      "cell_type": "code",
      "source": [
        "embeddings = GoogleGenerativeAIEmbeddings(model=\"models/embedding-001\", google_api_key=google_api_key)\n",
        "vector_store = FAISS.from_texts(text_chunks, embedding=embeddings)\n",
        "vector_store.save_local(\"faiss_index\")"
      ],
      "metadata": {
        "id": "VOpAr6TWpQqd"
      },
      "execution_count": 7,
      "outputs": []
    },
    {
      "cell_type": "markdown",
      "source": [
        "**Creating a prompt template**"
      ],
      "metadata": {
        "id": "-hvM351jj4LX"
      }
    },
    {
      "cell_type": "code",
      "source": [
        "prompt_template = \"\"\"\n",
        "Answer the question in a detailed way and include all the related details, if the answer is not in\n",
        "provided context just say, \"Answer is not available\", don't generate random responses\\n\\n\n",
        "Context:\\n {context}\\n\n",
        "Question: \\n{question}\\n\n",
        "\n",
        "Answer:\n",
        "\"\"\""
      ],
      "metadata": {
        "id": "afJ47a9-pUxY"
      },
      "execution_count": 8,
      "outputs": []
    },
    {
      "cell_type": "markdown",
      "source": [
        "**Integrating the components using langchain**"
      ],
      "metadata": {
        "id": "FVZ4J0RokPNH"
      }
    },
    {
      "cell_type": "code",
      "source": [
        "model = ChatGoogleGenerativeAI(model=\"gemini-pro\", temperature=0.4, google_api_key=google_api_key)\n",
        "prompt = PromptTemplate(template=prompt_template, input_variables=[\"context\", \"question\"])\n",
        "chain = load_qa_chain(model, chain_type=\"stuff\", prompt=prompt)"
      ],
      "metadata": {
        "id": "OiH6EKKckDCX"
      },
      "execution_count": null,
      "outputs": []
    },
    {
      "cell_type": "markdown",
      "source": [
        "**Question Answering Inference**"
      ],
      "metadata": {
        "id": "LHsiR7HWliPw"
      }
    },
    {
      "cell_type": "code",
      "source": [
        "question = 'What is the purpose of configuration items?'\n",
        "db = FAISS.load_local(\"faiss_index\", embeddings, allow_dangerous_deserialization=True)\n",
        "docs = db.similarity_search(question)\n",
        "\n",
        "if not docs:\n",
        "    print(\"No relevant documents found.\")\n",
        "else:\n",
        "    response = chain.invoke({\"input_documents\": docs, \"question\": question})\n",
        "\n",
        "    answer = response.get(\"output_text\")\n",
        "    print(answer)"
      ],
      "metadata": {
        "colab": {
          "base_uri": "https://localhost:8080/"
        },
        "id": "tg4h-BilpWpu",
        "outputId": "2b7ea4b9-0133-442f-c58f-5e20a4cce9d7"
      },
      "execution_count": 13,
      "outputs": [
        {
          "output_type": "stream",
          "name": "stdout",
          "text": [
            "Configuration items are used to identify, control, and manage change in software development projects. They are the items that are subject to change, such as programs, documentation, and data. By identifying and controlling these items, it is possible to ensure that changes are made in a controlled and orderly manner, and that the integrity of the software system is maintained.\n"
          ]
        }
      ]
    }
  ]
}